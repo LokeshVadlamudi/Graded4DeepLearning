{
  "nbformat": 4,
  "nbformat_minor": 0,
  "metadata": {
    "colab": {
      "name": "LeNetKeras.ipynb",
      "provenance": [],
      "collapsed_sections": []
    },
    "kernelspec": {
      "name": "python3",
      "display_name": "Python 3"
    },
    "accelerator": "GPU"
  },
  "cells": [
    {
      "cell_type": "code",
      "metadata": {
        "id": "WrsElbjqH-V_",
        "colab_type": "code",
        "colab": {}
      },
      "source": [
        "from keras.layers.core import Activation\n",
        "from keras.layers.core import Flatten\n",
        "from keras.layers.core import Dense\n",
        "from keras import backend as K\n",
        "\n",
        "\n",
        "from keras.models import Sequential\n",
        "from keras.layers.convolutional import Conv2D\n",
        "from keras.layers.convolutional import MaxPooling2D\n"
      ],
      "execution_count": 0,
      "outputs": []
    },
    {
      "cell_type": "code",
      "metadata": {
        "id": "DvcFH9uekEcp",
        "colab_type": "code",
        "colab": {}
      },
      "source": [
        "class LeNet:\n",
        "      def build(chanNo, ri, ci, classNo,activation=\"relu\"):\n",
        "\n",
        "          # define the model\n",
        "          model = Sequential()\n",
        "\n",
        "          inShape = (ri, ci, chanNo)\n",
        "          if K.image_data_format() == \"channels_first\":\n",
        "            inShape = (chanNo, ri , ci)\n",
        "          model.add(Conv2D(20, 5, padding=\"same\",input_shape=inShape))\n",
        "          model.add(Activation(activation))\n",
        "          model.add(MaxPooling2D(pool_size=(2, 2), strides=(2, 2)))\n",
        "\n",
        "          model.add(Conv2D(50, 5, padding=\"same\"))\n",
        "          model.add(Activation(activation))\n",
        "          model.add(MaxPooling2D(pool_size=(2, 2), strides=(2, 2)))\n",
        "\n",
        "          model.add(Flatten())\n",
        "          model.add(Dense(500))\n",
        "          model.add(Activation(activation))\n",
        "          \n",
        "          model.add(Dense(classNo))\n",
        "          model.add(Activation(\"softmax\"))\n",
        "\n",
        "          return model\n",
        "\n"
      ],
      "execution_count": 0,
      "outputs": []
    },
    {
      "cell_type": "code",
      "metadata": {
        "id": "znkdM6hAmJiL",
        "colab_type": "code",
        "colab": {}
      },
      "source": [
        "from sklearn.model_selection import train_test_split\n",
        "from keras.datasets import mnist\n",
        "from keras.optimizers import SGD\n",
        "from keras.utils import np_utils\n",
        "from keras import backend as K\n",
        "import numpy as np\n",
        "import argparse\n",
        "import cv2"
      ],
      "execution_count": 0,
      "outputs": []
    },
    {
      "cell_type": "code",
      "metadata": {
        "id": "2ITRxeWKmNKD",
        "colab_type": "code",
        "colab": {}
      },
      "source": [
        "((xtrain, ytrain), (xtest, ytest)) = mnist.load_data()"
      ],
      "execution_count": 0,
      "outputs": []
    },
    {
      "cell_type": "code",
      "metadata": {
        "id": "LwjZbAz7mhoP",
        "colab_type": "code",
        "colab": {}
      },
      "source": [
        "if K.image_data_format() == \"channels_first\":\n",
        "\txtrain = xtrain.reshape((xtrain.shape[0], 1, 28, 28))\n",
        "\txtest = xtest.reshape((xtest.shape[0], 1, 28, 28))\n",
        "else:\n",
        "\txtrain = xtrain.reshape((xtrain.shape[0], 28, 28, 1))\n",
        "\txtest = xtest.reshape((xtest.shape[0], 28, 28, 1))"
      ],
      "execution_count": 0,
      "outputs": []
    },
    {
      "cell_type": "code",
      "metadata": {
        "id": "XQWcLq7qmnuv",
        "colab_type": "code",
        "colab": {}
      },
      "source": [
        "xtrain = xtrain.astype(\"float32\") / 255.0\n",
        "xtest = xtest.astype(\"float32\") / 255.0"
      ],
      "execution_count": 0,
      "outputs": []
    },
    {
      "cell_type": "code",
      "metadata": {
        "id": "zxf6JO16muM3",
        "colab_type": "code",
        "colab": {}
      },
      "source": [
        "ytrain = np_utils.to_categorical(ytrain, 10)\n",
        "ytest = np_utils.to_categorical(ytest, 10)"
      ],
      "execution_count": 0,
      "outputs": []
    },
    {
      "cell_type": "code",
      "metadata": {
        "id": "td9FESvJmwu6",
        "colab_type": "code",
        "colab": {}
      },
      "source": [
        "opt = SGD(lr=0.01)\n",
        "model = LeNet.build(1, 28, 28,10)\n",
        "model.compile(loss=\"categorical_crossentropy\", optimizer=opt,metrics=[\"accuracy\"])"
      ],
      "execution_count": 0,
      "outputs": []
    },
    {
      "cell_type": "code",
      "metadata": {
        "id": "GeCJlVxenr8x",
        "colab_type": "code",
        "outputId": "bf4f1f56-9e1e-4450-ae32-02a19c46eb73",
        "colab": {
          "base_uri": "https://localhost:8080/",
          "height": 33
        }
      },
      "source": [
        "import tensorflow as tf\n",
        "tf.test.gpu_device_name()"
      ],
      "execution_count": 0,
      "outputs": [
        {
          "output_type": "execute_result",
          "data": {
            "text/plain": [
              "'/device:GPU:0'"
            ]
          },
          "metadata": {
            "tags": []
          },
          "execution_count": 25
        }
      ]
    },
    {
      "cell_type": "code",
      "metadata": {
        "id": "_aXiSXIEm1XS",
        "colab_type": "code",
        "outputId": "83d5448e-8c9b-4265-97a1-d2aee8b8315e",
        "colab": {
          "base_uri": "https://localhost:8080/",
          "height": 716
        }
      },
      "source": [
        "model.fit(xtrain, ytrain, batch_size=128, epochs=20,verbose=1)\n",
        "\n",
        "print(\"training\")\n",
        "\n",
        "(loss, accuracy) = model.evaluate(xtest, ytest,batch_size=128, verbose=1)\n",
        "\n",
        "print(\"accuracy: {:.2f}%\".format(accuracy * 100))"
      ],
      "execution_count": 0,
      "outputs": [
        {
          "output_type": "stream",
          "text": [
            "Epoch 1/20\n",
            "60000/60000 [==============================] - 3s 53us/step - loss: 0.9934 - accuracy: 0.7395\n",
            "Epoch 2/20\n",
            "60000/60000 [==============================] - 3s 52us/step - loss: 0.2588 - accuracy: 0.9226\n",
            "Epoch 3/20\n",
            "60000/60000 [==============================] - 3s 52us/step - loss: 0.1803 - accuracy: 0.9464\n",
            "Epoch 4/20\n",
            "60000/60000 [==============================] - 3s 53us/step - loss: 0.1416 - accuracy: 0.9584\n",
            "Epoch 5/20\n",
            "60000/60000 [==============================] - 3s 52us/step - loss: 0.1180 - accuracy: 0.9651\n",
            "Epoch 6/20\n",
            "60000/60000 [==============================] - 3s 52us/step - loss: 0.1012 - accuracy: 0.9702\n",
            "Epoch 7/20\n",
            "60000/60000 [==============================] - 3s 52us/step - loss: 0.0882 - accuracy: 0.9740\n",
            "Epoch 8/20\n",
            "60000/60000 [==============================] - 3s 52us/step - loss: 0.0794 - accuracy: 0.9762\n",
            "Epoch 9/20\n",
            "60000/60000 [==============================] - 3s 52us/step - loss: 0.0726 - accuracy: 0.9783\n",
            "Epoch 10/20\n",
            "60000/60000 [==============================] - 3s 52us/step - loss: 0.0671 - accuracy: 0.9795\n",
            "Epoch 11/20\n",
            "60000/60000 [==============================] - 3s 52us/step - loss: 0.0623 - accuracy: 0.9813\n",
            "Epoch 12/20\n",
            "60000/60000 [==============================] - 3s 53us/step - loss: 0.0579 - accuracy: 0.9821\n",
            "Epoch 13/20\n",
            "60000/60000 [==============================] - 3s 52us/step - loss: 0.0545 - accuracy: 0.9837\n",
            "Epoch 14/20\n",
            "60000/60000 [==============================] - 3s 52us/step - loss: 0.0518 - accuracy: 0.9839\n",
            "Epoch 15/20\n",
            "60000/60000 [==============================] - 3s 52us/step - loss: 0.0489 - accuracy: 0.9855\n",
            "Epoch 16/20\n",
            "60000/60000 [==============================] - 3s 52us/step - loss: 0.0467 - accuracy: 0.9857\n",
            "Epoch 17/20\n",
            "60000/60000 [==============================] - 3s 52us/step - loss: 0.0438 - accuracy: 0.9866\n",
            "Epoch 18/20\n",
            "60000/60000 [==============================] - 3s 52us/step - loss: 0.0417 - accuracy: 0.9876\n",
            "Epoch 19/20\n",
            "60000/60000 [==============================] - 3s 51us/step - loss: 0.0406 - accuracy: 0.9878\n",
            "Epoch 20/20\n",
            "60000/60000 [==============================] - 3s 53us/step - loss: 0.0384 - accuracy: 0.9886\n",
            "training\n",
            "10000/10000 [==============================] - 0s 28us/step\n",
            "accuracy: 98.29%\n"
          ],
          "name": "stdout"
        }
      ]
    },
    {
      "cell_type": "code",
      "metadata": {
        "id": "oiWLZPFHnDwu",
        "colab_type": "code",
        "colab": {}
      },
      "source": [
        ""
      ],
      "execution_count": 0,
      "outputs": []
    }
  ]
}