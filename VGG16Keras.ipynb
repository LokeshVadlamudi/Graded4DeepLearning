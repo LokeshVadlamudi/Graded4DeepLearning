{
  "nbformat": 4,
  "nbformat_minor": 0,
  "metadata": {
    "colab": {
      "name": "VGG16Keras.ipynb",
      "provenance": [],
      "collapsed_sections": []
    },
    "kernelspec": {
      "name": "python3",
      "display_name": "Python 3"
    },
    "accelerator": "GPU"
  },
  "cells": [
    {
      "cell_type": "code",
      "metadata": {
        "id": "naPlWZ7wmz8C",
        "colab_type": "code",
        "colab": {}
      },
      "source": [
        "import os\n",
        "import json\n",
        "import pickle\n",
        "\n",
        "import numpy as np\n",
        "import pandas as pd\n",
        "import matplotlib.pyplot as plt"
      ],
      "execution_count": 0,
      "outputs": []
    },
    {
      "cell_type": "code",
      "metadata": {
        "id": "2BK0SykKrSXr",
        "colab_type": "code",
        "colab": {}
      },
      "source": [
        "def unpickle(file, encoding='bytes'):\n",
        "    with open(file, 'rb') as f:\n",
        "        di = pickle.load(f, encoding=encoding)\n",
        "    return di"
      ],
      "execution_count": 0,
      "outputs": []
    },
    {
      "cell_type": "code",
      "metadata": {
        "id": "A7MsV50k91Uj",
        "colab_type": "code",
        "colab": {}
      },
      "source": [
        "print(os.listdir(\"../input/cifar-10-python/cifar-10-batches-py\"))"
      ],
      "execution_count": 0,
      "outputs": []
    },
    {
      "cell_type": "code",
      "metadata": {
        "id": "r0VtPsWf916P",
        "colab_type": "code",
        "colab": {}
      },
      "source": [
        "batches_meta = unpickle(f\"../input/cifar-10-python/cifar-10-batches-py/batches.meta\", encoding='utf-8')\n",
        "label_names = batches_meta['label_names']"
      ],
      "execution_count": 0,
      "outputs": []
    },
    {
      "cell_type": "code",
      "metadata": {
        "id": "f7Qjq9DW949A",
        "colab_type": "code",
        "colab": {}
      },
      "source": [
        "batch_labels = []\n",
        "batch_images = []\n",
        "\n",
        "for n in range(1, 6):\n",
        "    batch_dict = unpickle(f\"../input/cifar-10-python/cifar-10-batches-py/data_batch_{n}\")\n",
        "    # Add labels to the list of batch labels\n",
        "    batch_labels.append(batch_dict[b'labels'])\n",
        "    \n",
        "    # Load the images, and resize them to 10000x3x32x32\n",
        "    data = batch_dict[b'data'].reshape((10000,3,32,32))\n",
        "    # Modify axis to be 10000x32x32x3, since this is the correct order for keras\n",
        "    data = np.moveaxis(data, 1, -1)\n",
        "    batch_images.append(data)\n",
        "\n",
        "labels = np.concatenate(batch_labels, axis=0)\n",
        "images = np.concatenate(batch_images, axis=0)"
      ],
      "execution_count": 0,
      "outputs": []
    },
    {
      "cell_type": "code",
      "metadata": {
        "id": "LZTnp9Nl977W",
        "colab_type": "code",
        "colab": {}
      },
      "source": [
        "test_dict = unpickle(f\"../input/cifar-10-python/cifar-10-batches-py/test_batch\")\n",
        "test_labels = np.array(test_dict[b'labels'])\n",
        "test_images = test_dict[b'data'].reshape((10000,3,32,32))\n",
        "test_images = np.moveaxis(test_images, 1, -1)"
      ],
      "execution_count": 0,
      "outputs": []
    },
    {
      "cell_type": "code",
      "metadata": {
        "id": "JLHIL-5D9-vY",
        "colab_type": "code",
        "colab": {}
      },
      "source": [
        "fig = plt.figure(figsize=(14,10))\n",
        "\n",
        "for n in range(1, 29):\n",
        "    fig.add_subplot(4, 7, n)\n",
        "    img = images[n]\n",
        "    plt.imshow(img)\n",
        "    plt.title(label_names[labels[n]])\n",
        "    plt.axis('off')"
      ],
      "execution_count": 0,
      "outputs": []
    },
    {
      "cell_type": "code",
      "metadata": {
        "id": "qWxdiKsq-DCK",
        "colab_type": "code",
        "colab": {}
      },
      "source": [
        "from tensorflow.keras.applications.vgg16 import preprocess_input\n",
        "from tensorflow.keras.utils import to_categorical\n",
        "\n",
        "# We normalize the input according to the methods used in the paper\n",
        "X_train = preprocess_input(images)\n",
        "y_test = to_categorical(test_labels)\n",
        "\n",
        "# We one-hot-encode the labels for training\n",
        "X_test = preprocess_input(test_images)\n",
        "y_train = to_categorical(labels)"
      ],
      "execution_count": 0,
      "outputs": []
    },
    {
      "cell_type": "code",
      "metadata": {
        "id": "5C7aSBXa-F7p",
        "colab_type": "code",
        "colab": {}
      },
      "source": [
        "from tensorflow.keras.applications.vgg16 import VGG16\n",
        "\n",
        "model = VGG16(\n",
        "    weights=None, \n",
        "    include_top=True, \n",
        "    classes=10,\n",
        "    input_shape=(32,32,3)\n",
        ")\n",
        "\n",
        "# Expand this cell for the model summary\n",
        "model.summary()"
      ],
      "execution_count": 0,
      "outputs": []
    },
    {
      "cell_type": "code",
      "metadata": {
        "id": "LJO0aH2G-MaE",
        "colab_type": "code",
        "colab": {}
      },
      "source": [
        "from tensorflow.keras import optimizers\n",
        "\n",
        "model.compile(\n",
        "    loss='categorical_crossentropy',\n",
        "    optimizer='sgd',\n",
        "    metrics=['accuracy']\n",
        ")"
      ],
      "execution_count": 0,
      "outputs": []
    },
    {
      "cell_type": "code",
      "metadata": {
        "id": "H0KWu8Uf-M0W",
        "colab_type": "code",
        "colab": {}
      },
      "source": [
        "from tensorflow.keras.callbacks import ModelCheckpoint\n",
        "\n",
        "checkpoint = ModelCheckpoint(\n",
        "    'model.h5', \n",
        "    monitor='val_acc', \n",
        "    verbose=0, \n",
        "    save_best_only=True, \n",
        "    save_weights_only=False,\n",
        "    mode='auto'\n",
        ")\n",
        "\n",
        "# Train the model\n",
        "history = model.fit(\n",
        "    x=X_train,\n",
        "    y=y_train,\n",
        "    validation_split=0.1,\n",
        "    batch_size=256,\n",
        "    epochs=30,\n",
        "    callbacks=[checkpoint],\n",
        "    verbose=1\n",
        ")"
      ],
      "execution_count": 0,
      "outputs": []
    },
    {
      "cell_type": "code",
      "metadata": {
        "id": "ZxhLxFu2-QQm",
        "colab_type": "code",
        "colab": {}
      },
      "source": [
        "with open('history.json', 'w') as f:\n",
        "    json.dump(history.history, f)\n",
        "\n",
        "history_df = pd.DataFrame(history.history)\n",
        "history_df[['loss', 'val_loss']].plot()\n",
        "history_df[['acc', 'val_acc']].plot()"
      ],
      "execution_count": 0,
      "outputs": []
    },
    {
      "cell_type": "code",
      "metadata": {
        "id": "nQDW1R2J-S04",
        "colab_type": "code",
        "colab": {}
      },
      "source": [
        "model.load_weights('model.h5')\n",
        "train_loss, train_score = model.evaluate(X_train, y_train)\n",
        "test_loss, test_score = model.evaluate(X_test, y_test)\n",
        "print(\"Train Loss:\", train_loss)\n",
        "print(\"Test Loss:\", test_loss)\n",
        "print(\"Train F1 Score:\", train_score)\n",
        "print(\"Test F1 Score:\", test_score)"
      ],
      "execution_count": 0,
      "outputs": []
    }
  ]
}